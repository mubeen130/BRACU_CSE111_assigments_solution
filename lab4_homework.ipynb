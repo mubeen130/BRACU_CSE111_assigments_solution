{
  "nbformat": 4,
  "nbformat_minor": 0,
  "metadata": {
    "colab": {
      "provenance": []
    },
    "kernelspec": {
      "name": "python3",
      "display_name": "Python 3"
    },
    "language_info": {
      "name": "python"
    }
  },
  "cells": [
    {
      "cell_type": "code",
      "execution_count": 3,
      "metadata": {
        "colab": {
          "base_uri": "https://localhost:8080/"
        },
        "id": "PJ_VXdlsQxIJ",
        "outputId": "273a4627-854e-4569-e5b4-cfbb542f3c72"
      },
      "outputs": [
        {
          "output_type": "stream",
          "name": "stdout",
          "text": [
            "1-------------------------\n",
            "Welcome to ABC Memorial Park\n",
            "2-------------------------\n",
            "Successfully purchased a ticket for Bob!\n",
            "Successfully purchased a ticket for Henry!\n",
            "Successfully purchased a ticket for Alexa!\n",
            "You can't buy more than 3 tickets\n",
            "3-------------------------\n",
            "Amount of ticket 3\n",
            "Total Price: 250\n",
            "4-------------------------\n",
            "Welcome to ABC Memorial Park\n",
            "5-------------------------\n",
            "Successfully purchased a ticket for Harry!\n",
            "Successfully purchased a ticket for Tomas!\n",
            "6-------------------------\n",
            "Amount of ticket 2\n",
            "Total Price: 200\n"
          ]
        }
      ],
      "source": [
        "#task-1\n",
        "class Customer:\n",
        "    def __init__(self):\n",
        "        print(\"Welcome to ABC Memorial Park\")\n",
        "        self.amount_of_ticket = 0\n",
        "        self.price = 0\n",
        "    def buyTicket(self,name1,age):\n",
        "        self.name = name1\n",
        "        if self.amount_of_ticket<3:\n",
        "            self.amount_of_ticket+=1\n",
        "            print(f\"Successfully purchased a ticket for {self.name}!\")\n",
        "            if age < 10:\n",
        "                self.price += 50\n",
        "            else:\n",
        "                self.price+=100\n",
        "        else:\n",
        "            print(\"You can't buy more than 3 tickets\")\n",
        "    def showDetails(self):\n",
        "        print(f\"Amount of ticket {self.amount_of_ticket}\")\n",
        "        print(f\"Total Price: {self.price}\")\n",
        "#driver code :\n",
        "print('1-------------------------')\n",
        "customer1 = Customer()\n",
        "print('2-------------------------')\n",
        "customer1.buyTicket('Bob', 23)\n",
        "customer1.buyTicket('Henry', 7)\n",
        "customer1.buyTicket('Alexa', 30)\n",
        "customer1.buyTicket('Jonas', 43)\n",
        "print('3-------------------------')\n",
        "customer1.showDetails()\n",
        "print('4-------------------------')\n",
        "customer2 = Customer()\n",
        "print('5-------------------------')\n",
        "customer2.buyTicket('Harry', 60)\n",
        "customer2.buyTicket('Tomas', 28)\n",
        "print('6-------------------------')\n",
        "customer2.showDetails()"
      ]
    },
    {
      "cell_type": "code",
      "source": [
        "#Task2\n",
        "class Panda:\n",
        "    def __init__(self,name,gender,age):\n",
        "        self.name = name\n",
        "        self.gender = gender\n",
        "        self.age = age\n",
        "        self.hours = 0\n",
        "    def sleep(self,hrs):\n",
        "        self.hours += hrs\n",
        "        if 3<=self.hours<=5:\n",
        "            return f\"{self.name} sleeps {self.hours} hours daily and should have Mixed veggies\"\n",
        "        elif 6<=self.hours<=8:\n",
        "            return f\"{self.name} sleeps {self.hours} hours daily and should have Egg Plant and Tofu\"\n",
        "        elif 9<=self.hours<11:\n",
        "            return f\"{self.name} sleeps {self.hours} hours daily and should have Brocolli Chicken\"\n",
        "        else:\n",
        "            return f\"{self.name}  duration is unknown thus should have only bamboo leaves\"\n",
        "\n",
        "#driver code:\n",
        "panda1 = Panda(\"Kunfu\", \"Male\", 5)\n",
        "panda2 = Panda(\"Pan Pan\", \"Female\",3)\n",
        "panda3 = Panda(\"Ming Ming\", \"Female\",8)\n",
        "print(\"{} is a {} Panda Bear who is {} years old\".format(panda1.name,panda1.gender,panda1.age))\n",
        "print(\"{} is a {} Panda Bear who is {} years old\".format(panda2.name,panda2.gender,panda2.age))\n",
        "print(\"{} is a {} Panda Bear who is {} years old\".format(panda3.name,panda3.gender,panda3.age))\n",
        "print(\"===========================\")\n",
        "print(panda2.sleep(10))\n",
        "print(panda1.sleep(4))\n",
        "print(panda3.sleep(13))\n",
        "print(panda1.sleep(6))"
      ],
      "metadata": {
        "colab": {
          "base_uri": "https://localhost:8080/"
        },
        "id": "8TIato1YdKYG",
        "outputId": "f9c8e615-7f84-4c7e-f916-91cd1f3ea9fc"
      },
      "execution_count": 4,
      "outputs": [
        {
          "output_type": "stream",
          "name": "stdout",
          "text": [
            "Kunfu is a Male Panda Bear who is 5 years old\n",
            "Pan Pan is a Female Panda Bear who is 3 years old\n",
            "Ming Ming is a Female Panda Bear who is 8 years old\n",
            "===========================\n",
            "Pan Pan sleeps 10 hours daily and should have Brocolli Chicken\n",
            "Kunfu sleeps 4 hours daily and should have Mixed veggies\n",
            "Ming Ming  duration is unknown thus should have only bamboo leaves\n",
            "Kunfu sleeps 10 hours daily and should have Brocolli Chicken\n"
          ]
        }
      ]
    },
    {
      "cell_type": "code",
      "source": [
        "# task 3\n",
        "class GreenPhone:\n",
        "    def __init__(self,model_name,android_version,cameras):\n",
        "        self.model_name = model_name\n",
        "        self.android_version = android_version\n",
        "        self.cameras = cameras\n",
        "        self.update = 0\n",
        "        if self.model_name[0] == 'A':\n",
        "            self.mx = 2\n",
        "        elif self.model_name[0] == \"M\":\n",
        "            self.mx = 3\n",
        "        elif self.model_name[0] == \"U\":\n",
        "            self.mx = 4\n",
        "    def showSpecification(self):\n",
        "        print(\"Phone company: GreenPhone\")\n",
        "        print(f\"Model Name: {self.model_name}\")\n",
        "        print(f\"Android Version: {self.android_version}\")\n",
        "        print(f\"Number of Cameras: {self.cameras}\")\n",
        "    def updatePhone(self):\n",
        "        self.update += 1\n",
        "        if self.update<=self.mx:\n",
        "            self.android_version +=1\n",
        "            print(f\"Your phone Greenphone {self.model_name} is upgraded to android version: {self.android_version}\")\n",
        "\n",
        "        else:\n",
        "            print(f\"Your phone Greenphone {self.model_name} is already up to date.\")\n",
        "#driver code:\n",
        "print('1=======================')\n",
        "p1 = GreenPhone('A1', 12, 3)\n",
        "p2 = GreenPhone('M11', 12, 4)\n",
        "p3 = GreenPhone('U20', 12, 5)\n",
        "p1.showSpecification()\n",
        "print('2=======================')\n",
        "p2.showSpecification()\n",
        "print('3=======================')\n",
        "p1.updatePhone()\n",
        "print('4=======================')\n",
        "p1.updatePhone()\n",
        "p2.updatePhone()\n",
        "p3.updatePhone()\n",
        "print('5=======================')\n",
        "p1.updatePhone()\n",
        "p2.updatePhone()\n",
        "p3.updatePhone()\n",
        "print('6=======================')\n",
        "p2.updatePhone()\n",
        "p3.updatePhone()\n",
        "print('7=======================')\n",
        "p1.showSpecification()\n",
        "p3.showSpecification()"
      ],
      "metadata": {
        "colab": {
          "base_uri": "https://localhost:8080/"
        },
        "id": "T9Cm_UwcgnCX",
        "outputId": "4a9e6999-8c78-4ef4-efd0-b0e21a31fe66"
      },
      "execution_count": 5,
      "outputs": [
        {
          "output_type": "stream",
          "name": "stdout",
          "text": [
            "1=======================\n",
            "Phone company: GreenPhone\n",
            "Model Name: A1\n",
            "Android Version: 12\n",
            "Number of Cameras: 3\n",
            "2=======================\n",
            "Phone company: GreenPhone\n",
            "Model Name: M11\n",
            "Android Version: 12\n",
            "Number of Cameras: 4\n",
            "3=======================\n",
            "Your phone Greenphone A1 is upgraded to android version: 13\n",
            "4=======================\n",
            "Your phone Greenphone A1 is upgraded to android version: 14\n",
            "Your phone Greenphone M11 is upgraded to android version: 13\n",
            "Your phone Greenphone U20 is upgraded to android version: 13\n",
            "5=======================\n",
            "Your phone Greenphone A1 is already up to date.\n",
            "Your phone Greenphone M11 is upgraded to android version: 14\n",
            "Your phone Greenphone U20 is upgraded to android version: 14\n",
            "6=======================\n",
            "Your phone Greenphone M11 is upgraded to android version: 15\n",
            "Your phone Greenphone U20 is upgraded to android version: 15\n",
            "7=======================\n",
            "Phone company: GreenPhone\n",
            "Model Name: A1\n",
            "Android Version: 14\n",
            "Number of Cameras: 3\n",
            "Phone company: GreenPhone\n",
            "Model Name: U20\n",
            "Android Version: 15\n",
            "Number of Cameras: 5\n"
          ]
        }
      ]
    },
    {
      "cell_type": "code",
      "source": [
        "# task 4\n",
        "class StudentDatabase:\n",
        "    def __init__(self,name,id):\n",
        "        self.name = name\n",
        "        self.id = id\n",
        "        self.grades = {}\n",
        "    def calculateGPA(self,list,session):\n",
        "        self.dict1 = {}\n",
        "        self.tup = ()\n",
        "        sum = 0\n",
        "        count = 0\n",
        "        for i in list:\n",
        "            val1,val2 = i.split(\":\")\n",
        "            self.dict1[val1] = float(val2)\n",
        "        for j in self.dict1.values():\n",
        "            sum+=(j*3)\n",
        "            count+=1\n",
        "        self.cgpa = sum/(count*3)\n",
        "        self.tup+=tuple(self.dict1.keys())\n",
        "        self.grades[session] = {self.tup:round(self.cgpa,2)}\n",
        "    def printDetails(self):\n",
        "        print(f\"Name: {self.name}\")\n",
        "        print(f\"ID: {self.id}\")\n",
        "        for k,l in self.grades.items():\n",
        "            print(f\"Courses taken in {k}:\")\n",
        "            for m,n in l.items():\n",
        "                for l in m:\n",
        "                    print(l)\n",
        "            print(\"GPA:\",n)\n",
        "# driver code\n",
        "s1 = StudentDatabase('Pietro', '10101222')\n",
        "s1.calculateGPA(['CSE230: 4.0', 'CSE220: 4.0','MAT110: 4.0'], 'Summer2020')\n",
        "s1.calculateGPA(['CSE250: 3.7', 'CSE330: 4.0'],'Summer2021')\n",
        "print(f'Grades for {s1.name}\\n{s1.grades}')\n",
        "print('---------------------------------')\n",
        "s1.printDetails()\n",
        "s2 = StudentDatabase('Wanda', '10103332')\n",
        "s2.calculateGPA(['CSE111: 3.7', 'CSE260: 3.7','ENG101: 4.0'], 'Summer2022')\n",
        "print('---------------------------------')\n",
        "print(f'Grades for {s2.name}\\n{s2.grades}')\n",
        "print('---------------------------------')\n",
        "s2.printDetails()"
      ],
      "metadata": {
        "id": "4KIg3pZYe9cs",
        "colab": {
          "base_uri": "https://localhost:8080/"
        },
        "outputId": "d4693c37-b6fe-4a18-e89c-dc2c61c54722"
      },
      "execution_count": 6,
      "outputs": [
        {
          "output_type": "stream",
          "name": "stdout",
          "text": [
            "Grades for Pietro\n",
            "{'Summer2020': {('CSE230', 'CSE220', 'MAT110'): 4.0}, 'Summer2021': {('CSE250', 'CSE330'): 3.85}}\n",
            "---------------------------------\n",
            "Name: Pietro\n",
            "ID: 10101222\n",
            "Courses taken in Summer2020:\n",
            "CSE230\n",
            "CSE220\n",
            "MAT110\n",
            "GPA: 4.0\n",
            "Courses taken in Summer2021:\n",
            "CSE250\n",
            "CSE330\n",
            "GPA: 3.85\n",
            "---------------------------------\n",
            "Grades for Wanda\n",
            "{'Summer2022': {('CSE111', 'CSE260', 'ENG101'): 3.8}}\n",
            "---------------------------------\n",
            "Name: Wanda\n",
            "ID: 10103332\n",
            "Courses taken in Summer2022:\n",
            "CSE111\n",
            "CSE260\n",
            "ENG101\n",
            "GPA: 3.8\n"
          ]
        }
      ]
    }
  ]
}