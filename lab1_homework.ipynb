{
  "nbformat": 4,
  "nbformat_minor": 0,
  "metadata": {
    "colab": {
      "provenance": []
    },
    "kernelspec": {
      "name": "python3",
      "display_name": "Python 3"
    },
    "language_info": {
      "name": "python"
    }
  },
  "cells": [
    {
      "cell_type": "code",
      "execution_count": 1,
      "metadata": {
        "colab": {
          "base_uri": "https://localhost:8080/"
        },
        "id": "yvuVGYOt4AGF",
        "outputId": "8505d43c-f224-4576-de87-4b275a357c15"
      },
      "outputs": [
        {
          "output_type": "stream",
          "name": "stdout",
          "text": [
            "10\n",
            "10\n",
            "20\n",
            "20\n",
            "10\n",
            "30\n",
            "20\n",
            "40\n",
            "50\n",
            "90\n",
            "STOP\n",
            "10 - 3 times\n",
            "20 - 3 times\n",
            "30 - 1 times\n",
            "40 - 1 times\n",
            "50 - 1 times\n",
            "90 - 1 times\n"
          ]
        }
      ],
      "source": [
        "#Task 1\n",
        "list1 = []\n",
        "list2 = []\n",
        "a = \"STOP\"\n",
        "count = 0\n",
        "while count!=a:\n",
        "    nums = input()\n",
        "    if nums != a:\n",
        "        list1.append(int(nums))\n",
        "    else:\n",
        "        break\n",
        "    count+=1\n",
        "for x in range(len(list1)):\n",
        "    for y in range(len((list1))):\n",
        "        if list1[x] < list1[y]:\n",
        "            list1[x],list1[y] = list1[y],list1[x]\n",
        "for i in list1:\n",
        "    if i not in list2:\n",
        "        list2.append(i)\n",
        "for j in list2:\n",
        "    count2 = 0\n",
        "    for r in list1:\n",
        "        if r == j:\n",
        "            count2+=1\n",
        "    print(f\"{j} - {count2} times\")"
      ]
    },
    {
      "cell_type": "code",
      "source": [
        "# Task 2\n",
        "li_num = int(input())\n",
        "li1 = []\n",
        "li2 = []\n",
        "li3 = []\n",
        "count=0\n",
        "while count<li_num:\n",
        "    li_inp = input()\n",
        "    li1.append(li_inp)\n",
        "    count+=1\n",
        "num = 0\n",
        "for i in li1:\n",
        "    for j in i:\n",
        "        if '0' <= j <= '9':\n",
        "            num = num * 10 + int(j)\n",
        "        elif j == ' ':\n",
        "            li2.append(num)\n",
        "            num = 0\n",
        "    li2.append(num)\n",
        "    num = 0\n",
        "    li3.append(li2)\n",
        "    li2=[]\n",
        "li4 = []\n",
        "for x in li3:\n",
        "    sum = 0\n",
        "    for y in range(len(x)):\n",
        "        sum+=x[y]\n",
        "    li4.append(sum)\n",
        "    sum=0\n",
        "for z in range(len(li4)):\n",
        "    temp = li4[z]\n",
        "    for d in range(z+1, len(li4)):\n",
        "        if li4[d] > temp:\n",
        "            temp = li4[d]\n",
        "    if li4[z] < temp:\n",
        "        break\n",
        "for k in range(len(li4)):\n",
        "    if li4[k] == temp:\n",
        "        a = k\n",
        "h_lst = li3[a]\n",
        "print(f\"{temp}\\n{h_lst}\")"
      ],
      "metadata": {
        "colab": {
          "base_uri": "https://localhost:8080/"
        },
        "id": "4HxcxONAYcdK",
        "outputId": "4bdf9315-ff7b-438e-a68b-77bec1f9a06d"
      },
      "execution_count": 2,
      "outputs": [
        {
          "output_type": "stream",
          "name": "stdout",
          "text": [
            "4\n",
            "1 2 3\n",
            "7 8 9\n",
            "4 5 6\n",
            "10 11 12\n",
            "33\n",
            "[10, 11, 12]\n"
          ]
        }
      ]
    },
    {
      "cell_type": "code",
      "source": [
        "# Task3\n",
        "number_of_list =2\n",
        "count=0\n",
        "li1 = []\n",
        "li2 = []\n",
        "li3 = []\n",
        "num = 0\n",
        "while count<number_of_list:\n",
        "    li_inp = input()\n",
        "    li1.append(li_inp)\n",
        "    count+=1\n",
        "for i in li1:\n",
        "    for j in i:\n",
        "        if '0' <= j <= '9':\n",
        "            num = num * 10 + int(j)\n",
        "        elif j == ' ':\n",
        "            li2.append(num)\n",
        "            num = 0\n",
        "    li2.append(num)\n",
        "    num=0\n",
        "    li3.append(li2)\n",
        "    li2=[]\n",
        "li4 = []\n",
        "for x in range(len(li3)):\n",
        "    for y in range(x+1,len(li3)):\n",
        "        for i in range(len(li3[x])):\n",
        "            for j in range(len(li3[y])):\n",
        "                li4.append(li3[x][i] * li3[y][j])\n",
        "print(li4)"
      ],
      "metadata": {
        "colab": {
          "base_uri": "https://localhost:8080/"
        },
        "id": "UTA6UAqw3dbC",
        "outputId": "d0311b98-a738-4570-82c2-07d8d720a239"
      },
      "execution_count": 3,
      "outputs": [
        {
          "output_type": "stream",
          "name": "stdout",
          "text": [
            "2 3 6\n",
            "3 4 5\n",
            "[6, 8, 10, 9, 12, 15, 18, 24, 30]\n"
          ]
        }
      ]
    },
    {
      "cell_type": "code",
      "source": [
        "#Task4\n",
        "li1 = []\n",
        "while True:\n",
        "    count = input()\n",
        "    if count == 'STOP':\n",
        "        break\n",
        "    li2 = []\n",
        "    num_st = \"\"\n",
        "    for r in count:\n",
        "        if r == \" \":\n",
        "            li2.append(int(num_st))\n",
        "            num_st = \"\"\n",
        "        else:\n",
        "            num_st += r\n",
        "    if num_st:\n",
        "        li2.append(int(num_st))\n",
        "    li1.append(li2)\n",
        "for i in li1:\n",
        "    flag = 'UB Jumper'\n",
        "    for j in range(len(i) - 1):\n",
        "        diff = abs(i[j] - i[j + 1])\n",
        "        if diff > len(i) - 1:\n",
        "            flag = 'Not UB Jumper'\n",
        "            break\n",
        "    print(flag)\n"
      ],
      "metadata": {
        "colab": {
          "base_uri": "https://localhost:8080/"
        },
        "id": "xwkBZp4x3exD",
        "outputId": "f31a37d5-da28-41a1-cf9d-86068027e45d"
      },
      "execution_count": 4,
      "outputs": [
        {
          "output_type": "stream",
          "name": "stdout",
          "text": [
            "1 4 2 3\n",
            "2 1 4 6 10\n",
            "1 4 2 -1 6\n",
            "STOP\n",
            "UB Jumper\n",
            "UB Jumper\n",
            "Not UB Jumper\n"
          ]
        }
      ]
    },
    {
      "cell_type": "code",
      "source": [
        "#Task 5\n",
        "string_inp=input()\n",
        "small = []\n",
        "capital = []\n",
        "odd = []\n",
        "even = []\n",
        "for i in string_inp:\n",
        "  if ord(i)>47 and ord(i)<58:\n",
        "    if int(i)%2==0:\n",
        "      even.append(int(ord(i)))\n",
        "    else:\n",
        "      odd.append(int(ord(i)))\n",
        "  elif ord(i)>=97 and ord(i)<=122:\n",
        "    small.append(int(ord(i)))\n",
        "  elif ord(i)>=65 and ord(i)<=90:\n",
        "    capital.append(int(ord(i)))\n",
        "def sort(val):\n",
        "  for i in range(len(val)):\n",
        "    for j in range(len(val)):\n",
        "      if val[i]<val[j]:\n",
        "        val[i],val[j]=val[j],val[i]\n",
        "  return val\n",
        "sort(small)\n",
        "sort(capital)\n",
        "sort(odd)\n",
        "sort(even)\n",
        "for i in small:\n",
        "  print(chr(i),end='')\n",
        "for i in capital:\n",
        "  print(chr(i),end='')\n",
        "for i in odd:\n",
        "  print(chr(i),end='')\n",
        "for i in even:\n",
        "  print(chr(i),end='')"
      ],
      "metadata": {
        "colab": {
          "base_uri": "https://localhost:8080/"
        },
        "id": "0pb-x9idOo8e",
        "outputId": "21f1c955-7540-42b8-b67e-44eb6ecced09"
      },
      "execution_count": 5,
      "outputs": [
        {
          "output_type": "stream",
          "name": "stdout",
          "text": [
            "Bracu1234\n",
            "acruB1324"
          ]
        }
      ]
    },
    {
      "cell_type": "code",
      "source": [
        "# task6\n",
        "li1 = []\n",
        "input_str = input(\"no of participants and minimum attempts(give space): \")\n",
        "num = 0\n",
        "for i in input_str:\n",
        "    if '0' <= i <= '9':\n",
        "        num = num * 10 + int(i)\n",
        "    elif i == ' ':\n",
        "        li1.append(num)\n",
        "        num = 0\n",
        "li1.append(num)\n",
        "x, y = li1[0], li1[1]\n",
        "for i in range(x):\n",
        "    attempts = int(input(f\"Participant no{i + 1}'s total attempts: \"))\n",
        "    li1.append(attempts)\n",
        "count = 0\n",
        "for i in li1[2:]:\n",
        "    if i + y <= 5:\n",
        "        count += 1\n",
        "print(f'Team can be made:{count // 3}')"
      ],
      "metadata": {
        "id": "S-IW2aVkP3_y",
        "colab": {
          "base_uri": "https://localhost:8080/"
        },
        "outputId": "9bef27b0-70d8-4eee-d97f-85a52e934c2a"
      },
      "execution_count": 9,
      "outputs": [
        {
          "output_type": "stream",
          "name": "stdout",
          "text": [
            "no of participants and minimum attempts(give space): 5 2\n",
            "Participant no1's total attempts: 0\n",
            "Participant no2's total attempts: 4\n",
            "Participant no3's total attempts: 5\n",
            "Participant no4's total attempts: 1\n",
            "Participant no5's total attempts: 0\n",
            "Team can be made:1\n"
          ]
        }
      ]
    },
    {
      "cell_type": "code",
      "source": [
        "#task1 dictionary\n",
        "val1 = input()\n",
        "val2 = input()\n",
        "li1 = []\n",
        "li2 = []\n",
        "if ',' in val1:\n",
        "    for i in val1.split(','):\n",
        "        li1.append(i.split(':'))\n",
        "if ',' in val2:\n",
        "    for i in val2.split(','):\n",
        "        li2.append(i.split(':'))\n",
        "dict1 = {}\n",
        "dict2 = {}\n",
        "for i in range(len(li1)):\n",
        "  dict1[li1[i][0]] = int(li1[i][1])\n",
        "for j in range(len(li2)):\n",
        "  dict2[li2[j][0]] = int(li2[j][1])\n",
        "dict3={}\n",
        "dict3.update(dict1)\n",
        "for key,value in dict2.items():\n",
        "  if key in dict3.keys():\n",
        "    dict3[key]= dict3[key] + value\n",
        "  else:\n",
        "    dict3.update({key:value})\n",
        "li4=[]\n",
        "for i in dict3.values():\n",
        "  if i in li4:\n",
        "    pass\n",
        "  else:\n",
        "    li4.append(i)\n",
        "for i in range(len(li4)):\n",
        "  for j in range(len(li4)):\n",
        "    if li4[i]<li4[j]:\n",
        "      li4[i],li4[j]=li4[j],li4[i]\n",
        "print(dict3)\n",
        "print(tuple(li4))"
      ],
      "metadata": {
        "colab": {
          "base_uri": "https://localhost:8080/"
        },
        "id": "FnaIPe-oXlGX",
        "outputId": "49fcab92-f591-47d1-b2e8-d2d038b1db16"
      },
      "execution_count": 10,
      "outputs": [
        {
          "output_type": "stream",
          "name": "stdout",
          "text": [
            "a: 100, b: 100, c: 200, d: 300\n",
            "a: 300, b: 200, d: 400, e: 200\n",
            "{'a': 400, ' b': 300, ' c': 200, ' d': 700, ' e': 200}\n",
            "(200, 300, 400, 700)\n"
          ]
        }
      ]
    },
    {
      "cell_type": "code",
      "source": [
        "#task2\n",
        "li1=[]\n",
        "while True:\n",
        "  nums=input()\n",
        "  if nums == 'STOP':\n",
        "    break\n",
        "  li1.append(int(nums))\n",
        "dict1={}\n",
        "for i in li1:\n",
        "  if i in dict1.keys():\n",
        "    dict1[i]= dict1[i]+1\n",
        "  else:\n",
        "    dict1.update({i:1})\n",
        "for j,k in dict1.items():\n",
        "  print(f'{j} - {k} times')"
      ],
      "metadata": {
        "colab": {
          "base_uri": "https://localhost:8080/"
        },
        "id": "Zb43bbuxYFTg",
        "outputId": "898d4905-dc5b-4dc0-cb8e-169ae4943532"
      },
      "execution_count": 11,
      "outputs": [
        {
          "output_type": "stream",
          "name": "stdout",
          "text": [
            "10\n",
            "10\n",
            "20\n",
            "30\n",
            "20\n",
            "40\n",
            "50\n",
            "90\n",
            "STOP\n",
            "10 - 2 times\n",
            "20 - 2 times\n",
            "30 - 1 times\n",
            "40 - 1 times\n",
            "50 - 1 times\n",
            "90 - 1 times\n"
          ]
        }
      ]
    },
    {
      "cell_type": "code",
      "source": [
        "#task3\n",
        "val1 = input()\n",
        "li1 = []\n",
        "for pair in val1.split(','):\n",
        "    li1.append(pair.split(':'))\n",
        "dict1 = {}\n",
        "for i, j in li1:\n",
        "    if i[0] == ' ':\n",
        "        i = i[1:]\n",
        "    if j[0] == ' ':\n",
        "        j = j[1:]\n",
        "    dict1[i] = j\n",
        "dict2 = {}\n",
        "for i, j in dict1.items():\n",
        "    if j not in dict2:\n",
        "        dict2[j] = [i]\n",
        "    else:\n",
        "        dict2[j] +=[i]\n",
        "print(dict2)"
      ],
      "metadata": {
        "colab": {
          "base_uri": "https://localhost:8080/"
        },
        "id": "gxWQjIbLZu0R",
        "outputId": "350dad41-13ad-4434-abe9-cbf95b54b806"
      },
      "execution_count": 18,
      "outputs": [
        {
          "output_type": "stream",
          "name": "stdout",
          "text": [
            "key1 : value1, key2 : value2, key3 : value1\n",
            "{'value1': ['key1 ', 'key3 '], 'value2': ['key2 ']}\n"
          ]
        }
      ]
    },
    {
      "cell_type": "code",
      "source": [
        "#task4\n",
        "inp_st=input().lower()\n",
        "li1=[]\n",
        "dict1={}\n",
        "for i in inp_st:\n",
        "  if i in ' ':\n",
        "    pass\n",
        "  else:\n",
        "    li1.append(i)\n",
        "for j in li1:\n",
        "  if j in dict1.keys():\n",
        "    dict1[j] = dict1[j] + 1\n",
        "  else:\n",
        "    dict1[j] = dict1.get(j, 0) + 1\n",
        "print(dict1)"
      ],
      "metadata": {
        "colab": {
          "base_uri": "https://localhost:8080/"
        },
        "id": "DP5y_x2vdVmg",
        "outputId": "8495c8d3-1e2d-4dd6-e43e-d8da3d9c7b98"
      },
      "execution_count": 15,
      "outputs": [
        {
          "output_type": "stream",
          "name": "stdout",
          "text": [
            "Python programming is fun\n",
            "{'p': 2, 'y': 1, 't': 1, 'h': 1, 'o': 2, 'n': 3, 'r': 2, 'g': 2, 'a': 1, 'm': 2, 'i': 2, 's': 1, 'f': 1, 'u': 1}\n"
          ]
        }
      ]
    },
    {
      "cell_type": "code",
      "source": [
        "#task5\n",
        "val1 = input().lower()\n",
        "val2 = input().lower()\n",
        "if len(val1) != len(val2):\n",
        "    print(\"Those strings are not anagrams.\")\n",
        "else:\n",
        "    dt1 = {}\n",
        "    dt2 = {}\n",
        "    for i in val1:\n",
        "        dt1[i] = dt1.get(i, 0) + 1\n",
        "    for j in val2:\n",
        "        dt2[j] = dt2.get(j, 0) + 1\n",
        "    if dt1 == dt2:\n",
        "        print(\"Those strings are anagrams.\")\n",
        "    else:\n",
        "        print(\"Those strings are not anagrams.\")"
      ],
      "metadata": {
        "colab": {
          "base_uri": "https://localhost:8080/"
        },
        "id": "bCe6Fm4gedhV",
        "outputId": "a49a4096-1f0d-406e-d353-d3fa381c24fc"
      },
      "execution_count": 16,
      "outputs": [
        {
          "output_type": "stream",
          "name": "stdout",
          "text": [
            "evil\n",
            "live\n",
            "Those strings are anagrams.\n"
          ]
        }
      ]
    },
    {
      "cell_type": "code",
      "source": [
        "#task6\n",
        "nokia1100 = {\"1\": \".,?!:\",\"2\": \"ABC\",\"3\": \"DEF\",\"4\": \"GHI\",\"5\": \"JKL\",\"6\": \"MNO\",\"7\": \"PQRS\",\"8\": \"TUV\",\"9\": \"WXYZ\",\"0\": \" \"\n",
        "}\n",
        "\n",
        "inp = input()\n",
        "st = \"\"\n",
        "\n",
        "for i in inp:\n",
        "    for k, j in nokia1100.items():\n",
        "        if i.upper() in j:\n",
        "            count = 1\n",
        "            for m in j:\n",
        "                if m == i.upper():\n",
        "                    break\n",
        "                count += 1\n",
        "            val = k * count\n",
        "            st += val\n",
        "\n",
        "print(st)"
      ],
      "metadata": {
        "id": "YzVh9Zjygyl9",
        "colab": {
          "base_uri": "https://localhost:8080/"
        },
        "outputId": "521c571e-270d-420d-e71a-d1a971902662"
      },
      "execution_count": 17,
      "outputs": [
        {
          "output_type": "stream",
          "name": "stdout",
          "text": [
            "Hello, World!\n",
            "4433555555666110966677755531111\n"
          ]
        }
      ]
    }
  ]
}