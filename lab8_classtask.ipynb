{
  "nbformat": 4,
  "nbformat_minor": 0,
  "metadata": {
    "colab": {
      "provenance": []
    },
    "kernelspec": {
      "name": "python3",
      "display_name": "Python 3"
    },
    "language_info": {
      "name": "python"
    }
  },
  "cells": [
    {
      "cell_type": "code",
      "execution_count": 4,
      "metadata": {
        "colab": {
          "base_uri": "https://localhost:8080/",
          "height": 0
        },
        "id": "_QWciv5qXpTQ",
        "outputId": "82c9aef5-1d11-4076-930b-4d186f344dd2"
      },
      "outputs": [
        {
          "output_type": "stream",
          "name": "stdout",
          "text": [
            "Id:1\n",
            "Name:Samin\n",
            "Department:CSE\n",
            "Age:21\n",
            "Cgpa:3.91\n",
            "-----------------------\n",
            "Id:2\n",
            "Name:Fahim\n",
            "Department:ECE\n",
            "Age:21\n",
            "Cgpa:3.85\n",
            "-----------------------\n",
            "Id:3\n",
            "Name:Tahura\n",
            "Department:EEE\n",
            "Age:22\n",
            "Cgpa:3.01\n",
            "-----------------------\n",
            "Id:4\n",
            "Name:Sumaiya\n",
            "Department:BBA\n",
            "Age:3.96\n",
            "Cgpa:23\n"
          ]
        }
      ],
      "source": [
        "#task-1\n",
        "class Student:\n",
        "    Id = 0\n",
        "    def __init__(self,name,dept,age,cgpa):\n",
        "        self.name = name\n",
        "        self.dept = dept\n",
        "        self.age = age\n",
        "        self.cgpa = cgpa\n",
        "        Student.Id +=1\n",
        "    def showDetails(self):\n",
        "        print(f\"Id:{Student.Id}\\nName:{self.name}\\nDepartment:{self.dept}\\nAge:{self.age}\\nCgpa:{self.cgpa}\")\n",
        "    @classmethod\n",
        "    def from_String(cls,str):\n",
        "        name,dept,age,cgpa = str.split(\"-\")\n",
        "        return cls(name,dept,cgpa,age)\n",
        "\n",
        "#driver code\n",
        "s1 = Student(\"Samin\", \"CSE\", 21, 3.91)\n",
        "s1.showDetails()\n",
        "print(\"-----------------------\")\n",
        "s2 = Student(\"Fahim\", \"ECE\", 21, 3.85)\n",
        "s2.showDetails()\n",
        "print(\"-----------------------\")\n",
        "s3 = Student(\"Tahura\", \"EEE\", 22, 3.01)\n",
        "s3.showDetails()\n",
        "print(\"-----------------------\")\n",
        "s4 = Student.from_String(\"Sumaiya-BBA-23-3.96\")\n",
        "s4.showDetails()\n"
      ]
    },
    {
      "cell_type": "code",
      "source": [
        "#task-2\n",
        "class Passenger:\n",
        "    count = 0\n",
        "    def __init__(self,name):\n",
        "        self.name = name\n",
        "        Passenger.count +=1\n",
        "        self.fare = 450\n",
        "    def set_bag_weight(self,w):\n",
        "        if w <= 20:\n",
        "            pass\n",
        "        elif 20<w<=50:\n",
        "            self.fare+=50\n",
        "        elif w>50:\n",
        "            self.fare+=100\n",
        "    def printDetail(self):\n",
        "        print(\"Name:{}\\nFare:{}\".format(self.name,self.fare))\n",
        "\n",
        "#driver code\n",
        "print(\"Total Passenger:\", Passenger.count)\n",
        "p1 = Passenger(\"Jack\")\n",
        "p1.set_bag_weight(90)\n",
        "p2 = Passenger(\"Carol\")\n",
        "p2.set_bag_weight(10)\n",
        "p3 = Passenger(\"Mike\")\n",
        "p3.set_bag_weight(25)\n",
        "print(\"=========================\")\n",
        "p1.printDetail()\n",
        "print(\"=========================\")\n",
        "p2.printDetail()\n",
        "print(\"=========================\")\n",
        "p3.printDetail()\n",
        "print(\"=========================\")\n",
        "print(\"Total Passenger:\", Passenger.count)"
      ],
      "metadata": {
        "colab": {
          "base_uri": "https://localhost:8080/",
          "height": 0
        },
        "id": "4arb7HEHN-fo",
        "outputId": "9b6deb21-711e-4769-dc12-90ca78aeb00a"
      },
      "execution_count": 5,
      "outputs": [
        {
          "output_type": "stream",
          "name": "stdout",
          "text": [
            "Total Passenger: 0\n",
            "=========================\n",
            "Name:Jack\n",
            "Fare:550\n",
            "=========================\n",
            "Name:Carol\n",
            "Fare:450\n",
            "=========================\n",
            "Name:Mike\n",
            "Fare:500\n",
            "=========================\n",
            "Total Passenger: 3\n"
          ]
        }
      ]
    },
    {
      "cell_type": "code",
      "source": [
        "#task-3\n",
        "class Travel:\n",
        "    count = 0\n",
        "    def __init__(self,form1,to):\n",
        "        self.__form1 = form1\n",
        "        self.__to = to\n",
        "        Travel.count+=1\n",
        "        self.__time = 1\n",
        "    def set_time(self,time):\n",
        "        self.__time = time\n",
        "    def set_source(self,mfrom):\n",
        "        self.__form1 = mfrom\n",
        "    def set_destination(self,to2):\n",
        "        self.__to = to2\n",
        "    def display_travel_info(self):\n",
        "        return \"Source:{}\\nDestination:{}\\nFlight Time:{}:00\".format(self.__form1, self.__to, self.__time)\n",
        "\n",
        "#driver code\n",
        "print(\"No. of Traveller =\", Travel.count)\n",
        "print(\"=======================\")\n",
        "t1 = Travel(\"Dhaka\",\"India\")\n",
        "print(t1.display_travel_info())\n",
        "print(\"=======================\")\n",
        "t2 = Travel(\"Kuala Lampur\",\"Dhaka\")\n",
        "t2.set_time(23)\n",
        "print(t2.display_travel_info())\n",
        "print(\"=======================\")\n",
        "t3 = Travel(\"Dhaka\",\"New_Zealand\")\n",
        "t3.set_time(15)\n",
        "t3.set_destination(\"Germany\")\n",
        "print(t3.display_travel_info())\n",
        "print(\"=======================\")\n",
        "t4 = Travel(\"Dhaka\",\"India\")\n",
        "t4.set_time(9)\n",
        "t4.set_source(\"Malaysia\")\n",
        "t4.set_destination(\"Canada\")\n",
        "print(t4.display_travel_info())\n",
        "print(\"=======================\")\n",
        "print(\"No. of Traveller =\", Travel.count)"
      ],
      "metadata": {
        "colab": {
          "base_uri": "https://localhost:8080/",
          "height": 0
        },
        "id": "zl1perxxOBk3",
        "outputId": "b8b6ec4b-700b-4377-b29a-6b340ac7043b"
      },
      "execution_count": 6,
      "outputs": [
        {
          "output_type": "stream",
          "name": "stdout",
          "text": [
            "No. of Traveller = 0\n",
            "=======================\n",
            "Source:Dhaka\n",
            "Destination:India\n",
            "Flight Time:1:00\n",
            "=======================\n",
            "Source:Kuala Lampur\n",
            "Destination:Dhaka\n",
            "Flight Time:23:00\n",
            "=======================\n",
            "Source:Dhaka\n",
            "Destination:Germany\n",
            "Flight Time:15:00\n",
            "=======================\n",
            "Source:Malaysia\n",
            "Destination:Canada\n",
            "Flight Time:9:00\n",
            "=======================\n",
            "No. of Traveller = 4\n"
          ]
        }
      ]
    },
    {
      "cell_type": "code",
      "source": [
        "#task-4\n",
        "class Student:\n",
        "    total_students = 0\n",
        "    bracu_students = 0\n",
        "    other_students = 0\n",
        "    def __init__(self,name,dept,school = \"BRAC University\"):\n",
        "        self.name = name\n",
        "        self.school = school\n",
        "        self.dept = dept\n",
        "        Student.total_students +=1\n",
        "        if self.school == \"BRAC University\":\n",
        "            Student.bracu_students+=1\n",
        "        else:\n",
        "            Student.other_students += 1\n",
        "\n",
        "    def individualDetail(self):\n",
        "        print(f\"Name: {self.name}\\nDepartment: {self.dept}\\nInstitution: {self.school}\")\n",
        "    @classmethod\n",
        "    def createStudent(cls,name,dept,inst=\"BRAC University\"):\n",
        "        return cls(name,dept,inst)\n",
        "    @classmethod\n",
        "    def printDetails(cls):\n",
        "        print(f\"Total Students: {Student.total_students}\\nBRAC University Students: {Student.bracu_students}\\nOther institution students: {Student.other_students}\")\n",
        "\n",
        "\n",
        "#driver code\n",
        "Student.printDetails()\n",
        "print('#########################')\n",
        "\n",
        "mikasa = Student('Mikasa Ackerman', \"CSE\")\n",
        "mikasa.individualDetail()\n",
        "print('------------------------------------------')\n",
        "Student.printDetails()\n",
        "\n",
        "print('========================')\n",
        "\n",
        "harry = Student.createStudent('Harry Potter', \"Defence Against Dark Arts\", \"Hogwarts School\")\n",
        "harry.individualDetail()\n",
        "print('-------------------------------------------')\n",
        "Student.printDetails()\n",
        "\n",
        "print('=========================')\n",
        "\n",
        "levi = Student.createStudent(\"Levi Ackerman\", \"CSE\")\n",
        "levi.individualDetail()\n",
        "print('--------------------------------------------')\n",
        "Student.printDetails()\n"
      ],
      "metadata": {
        "colab": {
          "base_uri": "https://localhost:8080/",
          "height": 0
        },
        "id": "hKtEBjSRQzaD",
        "outputId": "9e079dda-7177-42b0-d971-9f2769c7aaef"
      },
      "execution_count": 7,
      "outputs": [
        {
          "output_type": "stream",
          "name": "stdout",
          "text": [
            "Total Students: 0\n",
            "BRAC University Students: 0\n",
            "Other institution students: 0\n",
            "#########################\n",
            "Name: Mikasa Ackerman\n",
            "Department: CSE\n",
            "Institution: BRAC University\n",
            "------------------------------------------\n",
            "Total Students: 1\n",
            "BRAC University Students: 1\n",
            "Other institution students: 0\n",
            "========================\n",
            "Name: Harry Potter\n",
            "Department: Defence Against Dark Arts\n",
            "Institution: Hogwarts School\n",
            "-------------------------------------------\n",
            "Total Students: 2\n",
            "BRAC University Students: 1\n",
            "Other institution students: 1\n",
            "=========================\n",
            "Name: Levi Ackerman\n",
            "Department: CSE\n",
            "Institution: BRAC University\n",
            "--------------------------------------------\n",
            "Total Students: 3\n",
            "BRAC University Students: 2\n",
            "Other institution students: 1\n"
          ]
        }
      ]
    }
  ]
}