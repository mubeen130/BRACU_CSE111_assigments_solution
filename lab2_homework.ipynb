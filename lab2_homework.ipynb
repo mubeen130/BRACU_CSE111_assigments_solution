{
  "nbformat": 4,
  "nbformat_minor": 0,
  "metadata": {
    "colab": {
      "provenance": []
    },
    "kernelspec": {
      "name": "python3",
      "display_name": "Python 3"
    },
    "language_info": {
      "name": "python"
    }
  },
  "cells": [
    {
      "cell_type": "code",
      "execution_count": 1,
      "metadata": {
        "colab": {
          "base_uri": "https://localhost:8080/"
        },
        "id": "UvuFq0xOIgEm",
        "outputId": "fac0f46b-0821-4b46-cf84-27e1ac62fde6"
      },
      "outputs": [
        {
          "output_type": "stream",
          "name": "stdout",
          "text": [
            "Highest fee was 1000 tk which was paid by Neymar,Bale\n",
            "Highest fee was 1200 tk which was paid by Steyn\n"
          ]
        }
      ],
      "source": [
        "#homework 1\n",
        "def hospital_fee(**kwargs1):\n",
        "    li1 = []\n",
        "    li2 = []\n",
        "    li3 = []\n",
        "    li4 = []\n",
        "    st = \"\"\n",
        "    for i,j in kwargs1.items():\n",
        "        li1.append(i)\n",
        "        li2.append(j)\n",
        "        li3.append(j)\n",
        "    for k in range(len(li3)):\n",
        "        for m in range(len(li3)):\n",
        "            if li3[k]>li3[m]:\n",
        "                li3[k],li3[m] = li3[m],li3[k]\n",
        "    max = li3[0]\n",
        "    for n in range(len(li3)):\n",
        "        if li2[n]== max:\n",
        "            li4.append(n)\n",
        "    flag = True\n",
        "    for a in li4:\n",
        "        if flag:\n",
        "            st+=li1[a]\n",
        "            flag = False\n",
        "        else:\n",
        "            st+=\",\"+li1[a]\n",
        "    return max , st\n",
        "max_amount, max_payer= hospital_fee(Neymar =1000, Dembele = 600, Reus = 500, Bale = 1000)\n",
        "max_amount1, max_payer1 = hospital_fee(Mashrafe =400, Bumrah = 900, Steyn = 1200, Cummins = 900,Wood = 400, Marsh = 700)\n",
        "print(f\"Highest fee was {max_amount} tk which was paid by {max_payer}\")\n",
        "print(f\"Highest fee was {max_amount1} tk which was paid by {max_payer1}\")"
      ]
    },
    {
      "cell_type": "code",
      "source": [
        "#homework 2\n",
        "def is_james_bond(list1):\n",
        "    lst1 = [0,0,7]\n",
        "    lst2 = [1,2,3,4,5,6,8,9]\n",
        "    for i in range(len(lst2)):\n",
        "        if lst2[i] in list1:\n",
        "            list1.remove(lst2[i])\n",
        "\n",
        "    if list1 == lst1:\n",
        "        print(True)\n",
        "    else:\n",
        "        print(False)\n",
        "\n",
        "is_james_bond( [1, 2, 4, 0, 0, 7, 5] )\n",
        "is_james_bond( [1, 7, 2, 0, 4, 5, 0] )\n",
        "is_james_bond( [1, 0, 2, 0, 4, 7, 5] )"
      ],
      "metadata": {
        "colab": {
          "base_uri": "https://localhost:8080/"
        },
        "id": "ZBQ1RXlZIkPe",
        "outputId": "4cddbe49-3d9a-4cc7-eb2c-cb439ab4c298"
      },
      "execution_count": 2,
      "outputs": [
        {
          "output_type": "stream",
          "name": "stdout",
          "text": [
            "True\n",
            "False\n",
            "True\n"
          ]
        }
      ]
    },
    {
      "cell_type": "code",
      "source": [
        "#homework 3\n",
        "def stu(section,*kwargs):\n",
        "    dict1 = {}\n",
        "    len_section = len(section)\n",
        "    for i in section:\n",
        "        dict1[i] = []\n",
        "\n",
        "    for m in kwargs:\n",
        "        sum = 0\n",
        "        for n in m:\n",
        "            sum+=ord(n)\n",
        "        var = sum%len_section\n",
        "        var2 = section[var]\n",
        "        dict1[var2].append(m)\n",
        "\n",
        "    print(dict1)\n",
        "stu('ABCDE', 'Alice','Bob', 'Charlie', 'David', 'Eve', 'Frank', 'Grace')"
      ],
      "metadata": {
        "colab": {
          "base_uri": "https://localhost:8080/"
        },
        "id": "ixk_2RApImyh",
        "outputId": "89d995e8-9213-4922-8e4f-c19fd342937e"
      },
      "execution_count": 3,
      "outputs": [
        {
          "output_type": "stream",
          "name": "stdout",
          "text": [
            "{'A': ['Bob'], 'B': ['Charlie'], 'C': ['Grace'], 'D': ['Alice', 'David', 'Eve', 'Frank'], 'E': []}\n"
          ]
        }
      ]
    },
    {
      "cell_type": "code",
      "source": [
        "#homework 4\n",
        "def username_generator(f_name,l_name,s_id,m_name=\"\"):\n",
        "    count = 0\n",
        "    st = \"\"\n",
        "    st_f = \"\"\n",
        "    for i in f_name:\n",
        "        if count < 3:\n",
        "            if 97 <= ord(i) <= 122:\n",
        "                st_f += chr(ord(i)-32)\n",
        "                count += 1\n",
        "            elif 65 <= ord(i) <= 90:\n",
        "                st_f += chr(ord(i))\n",
        "                count += 1\n",
        "            else:\n",
        "                pass\n",
        "    st_m = \"\"\n",
        "    st_ = \"\"\n",
        "    if m_name !=\"\":\n",
        "        st_m+=m_name\n",
        "    st_ += \"_\"\n",
        "    st_l = \"\"\n",
        "    for k in l_name[-3:]:\n",
        "        st_l+=k\n",
        "    st_id = \"\"\n",
        "    var = str(s_id)\n",
        "    var_str = var[-4:]\n",
        "    st_id += var_str\n",
        "    st += st_f + st_m + st_l + st_ + st_id\n",
        "    return st\n",
        "first_name,middle_name,last_name,student_id = input(\"First name: \"),input(\"Middle name: \"),\\\n",
        "    input(\"Last name: \"),input(\"Student Id: \")\n",
        "\n",
        "\n",
        "print(username_generator(first_name, last_name, student_id, middle_name))"
      ],
      "metadata": {
        "colab": {
          "base_uri": "https://localhost:8080/"
        },
        "id": "cqjlzMpjIovQ",
        "outputId": "64b2d488-3a5d-4e7d-eed6-664c9dd3ca6a"
      },
      "execution_count": 5,
      "outputs": [
        {
          "output_type": "stream",
          "name": "stdout",
          "text": [
            "First name: Shakib\n",
            "Middle name: Bin\n",
            "Last name: Islam\n",
            "Student Id: 123456788\n",
            "SHABinlam_6788\n"
          ]
        }
      ]
    },
    {
      "cell_type": "code",
      "source": [
        "#homework 5\n",
        "def keyGen(*kwargs):\n",
        "    inp = []\n",
        "    li1 = []\n",
        "    li2 = []\n",
        "    li3 = []\n",
        "    li4 = []\n",
        "    li = []\n",
        "    st = \"\"\n",
        "    for dc in kwargs:\n",
        "        inp.append(dc)\n",
        "    for sw in inp:\n",
        "        for i in sw:\n",
        "            for j in i:\n",
        "                li1.append(j)\n",
        "        for k in range(len(li1)):\n",
        "            if k == 0:\n",
        "                li2.append(li1[k])\n",
        "            elif k == len(li1)-1:\n",
        "                li3.append(li1[k])\n",
        "        for n in range(len(li2)):\n",
        "            li2[n] = chr(ord(li2[n])+32)\n",
        "        for m in range(len(li3)):\n",
        "            li3[m] = chr(ord(li3[m])-32)\n",
        "        for z in li1[1:len(li1)-1]:\n",
        "            li4.append(z)\n",
        "        li5 = li4[::-1]\n",
        "        for f in range(len(li5)):\n",
        "            a = ord(li5[f])\n",
        "            li5[f] = str(a)\n",
        "        li6 = li2+li5+li3\n",
        "        for h in range(len(li6)):\n",
        "            st+=li6[h]\n",
        "        li.append(st)\n",
        "        st=\"\"\n",
        "        li1=[]\n",
        "        li2 = []\n",
        "        li3 = []\n",
        "        li4 = []\n",
        "    return li\n",
        "a = keyGen(\"Alex\",\"Bob\", \"Trudy\")\n",
        "print(a)"
      ],
      "metadata": {
        "colab": {
          "base_uri": "https://localhost:8080/"
        },
        "id": "wXTHoLijIrBW",
        "outputId": "2f5ac690-9184-4fb2-c997-71fcd1b53c07"
      },
      "execution_count": 6,
      "outputs": [
        {
          "output_type": "stream",
          "name": "stdout",
          "text": [
            "['a101108X', 'b111B', 't100117114Y']\n"
          ]
        }
      ]
    },
    {
      "cell_type": "code",
      "source": [
        "#homework 6\n",
        "import random\n",
        "def rockPaperScissor(trs):\n",
        "    count = 0\n",
        "    com = 0\n",
        "    ply = 0\n",
        "    a = \"rock\"\n",
        "    b = \"paper\"\n",
        "    c = \"scissor\"\n",
        "    while count<trs:\n",
        "        x = random.choice([a, b, c])\n",
        "        rpc = input(\"Rock/Paper/Scissor: \")\n",
        "        if rpc == \"rock\" or rpc == \"paper\" or rpc == \"scissor\":\n",
        "            if x == \"rock\":\n",
        "                if rpc == \"rock\":\n",
        "                    pass\n",
        "                elif rpc == \"paper\":\n",
        "                    ply+=1\n",
        "                elif rpc == \"scissor\":\n",
        "                    com +=1\n",
        "            elif x == \"paper\":\n",
        "                if rpc == \"rock\":\n",
        "                    com+=1\n",
        "                elif rpc == \"paper\":\n",
        "                    pass\n",
        "                elif rpc == \"scissor\":\n",
        "                    ply +=1\n",
        "            elif x ==\"scissor\":\n",
        "                if rpc == \"rock\":\n",
        "                    ply+=1\n",
        "                elif rpc == \"paper\":\n",
        "                    com+=1\n",
        "                elif rpc == \"scissor\":\n",
        "                    pass\n",
        "            print(\"Computer :\", x)\n",
        "        else:\n",
        "            print(\"Invalid input\")\n",
        "        count+=1\n",
        "    print(f\"Computer Score: {com}\")\n",
        "    print(f\"Your Score: {ply}\")\n",
        "    if com>ply:\n",
        "        print(\"Computer has won the game!!\")\n",
        "    else:\n",
        "        print(\"You have won the game!!\")\n",
        "\n",
        "rockPaperScissor(int(input(\"How many times: \")))"
      ],
      "metadata": {
        "colab": {
          "base_uri": "https://localhost:8080/"
        },
        "id": "HebKEJaFItWD",
        "outputId": "8f720716-8e73-40df-d99c-6206aadd5f40"
      },
      "execution_count": 9,
      "outputs": [
        {
          "output_type": "stream",
          "name": "stdout",
          "text": [
            "How many times: 3\n",
            "Rock/Paper/Scissor: rock\n",
            "Computer : rock\n",
            "Rock/Paper/Scissor: paper\n",
            "Computer : paper\n",
            "Rock/Paper/Scissor: scissor\n",
            "Computer : rock\n",
            "Computer Score: 1\n",
            "Your Score: 0\n",
            "Computer has won the game!!\n"
          ]
        }
      ]
    }
  ]
}